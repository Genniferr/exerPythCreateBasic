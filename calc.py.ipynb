{
 "cells": [
  {
   "cell_type": "code",
   "execution_count": 1,
   "metadata": {},
   "outputs": [
    {
     "ename": "SyntaxError",
     "evalue": "invalid syntax (<ipython-input-1-52514f2a42e2>, line 1)",
     "output_type": "error",
     "traceback": [
      "\u001b[0;36m  File \u001b[0;32m\"<ipython-input-1-52514f2a42e2>\"\u001b[0;36m, line \u001b[0;32m1\u001b[0m\n\u001b[0;31m    code calc.py\u001b[0m\n\u001b[0m         ^\u001b[0m\n\u001b[0;31mSyntaxError\u001b[0m\u001b[0;31m:\u001b[0m invalid syntax\n"
     ]
    }
   ],
   "source": [
    "code calc.py"
   ]
  },
  {
   "cell_type": "code",
   "execution_count": 2,
   "metadata": {},
   "outputs": [
    {
     "name": "stdout",
     "output_type": "stream",
     "text": [
      "Enter the first number: 2\n",
      "Enter the second number: 3\n",
      "2 + 3 = 5\n"
     ]
    }
   ],
   "source": [
    "# Read the first number\n",
    "x = int(input('Enter the first number: '))\n",
    "\n",
    "# Get the second number\n",
    "y = int(input('Enter the second number: '))\n",
    "\n",
    "# Add them together\n",
    "result = x + y\n",
    "\n",
    "# Display the results\n",
    "print(str(x) + \" + \" + str(y) + \" = \" + str(result))"
   ]
  },
  {
   "cell_type": "code",
   "execution_count": 3,
   "metadata": {},
   "outputs": [
    {
     "name": "stdout",
     "output_type": "stream",
     "text": [
      "Enter the first number: 52\n",
      "Enter the second number: 96\n",
      "52 + 96 = 148\n"
     ]
    }
   ],
   "source": [
    "# Read the first number\n",
    "x = int(input('Enter the first number: '))\n",
    "\n",
    "# Get the second number\n",
    "y = int(input('Enter the second number: '))\n",
    "\n",
    "# Add them together\n",
    "result = x + y\n",
    "\n",
    "# Display the results\n",
    "print(str(x) + \" + \" + str(y) + \" = \" + str(result))"
   ]
  },
  {
   "cell_type": "code",
   "execution_count": null,
   "metadata": {},
   "outputs": [],
   "source": []
  }
 ],
 "metadata": {
  "kernelspec": {
   "display_name": "Python 3",
   "language": "python",
   "name": "python3"
  },
  "language_info": {
   "codemirror_mode": {
    "name": "ipython",
    "version": 3
   },
   "file_extension": ".py",
   "mimetype": "text/x-python",
   "name": "python",
   "nbconvert_exporter": "python",
   "pygments_lexer": "ipython3",
   "version": "3.8.3"
  }
 },
 "nbformat": 4,
 "nbformat_minor": 4
}
